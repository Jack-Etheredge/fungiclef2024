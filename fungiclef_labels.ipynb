{
 "cells": [
  {
   "cell_type": "code",
   "execution_count": 39,
   "id": "776ec4c4",
   "metadata": {},
   "outputs": [],
   "source": [
    "import pandas as pd\n",
    "from pathlib import Path\n",
    "\n",
    "parent_dir = Path('__file__').parent.absolute()\n",
    "labels_dir = parent_dir / \"metadata\"\n",
    "\n",
    "train_df = pd.read_csv(labels_dir / \"FungiCLEF2023_train_metadata_PRODUCTION.csv\")"
   ]
  },
  {
   "cell_type": "code",
   "execution_count": 40,
   "id": "63802e8a",
   "metadata": {},
   "outputs": [
    {
     "data": {
      "text/html": [
       "<div>\n",
       "<style scoped>\n",
       "    .dataframe tbody tr th:only-of-type {\n",
       "        vertical-align: middle;\n",
       "    }\n",
       "\n",
       "    .dataframe tbody tr th {\n",
       "        vertical-align: top;\n",
       "    }\n",
       "\n",
       "    .dataframe thead th {\n",
       "        text-align: right;\n",
       "    }\n",
       "</style>\n",
       "<table border=\"1\" class=\"dataframe\">\n",
       "  <thead>\n",
       "    <tr style=\"text-align: right;\">\n",
       "      <th></th>\n",
       "      <th>observationID</th>\n",
       "      <th>year</th>\n",
       "      <th>month</th>\n",
       "      <th>day</th>\n",
       "      <th>countryCode</th>\n",
       "      <th>locality</th>\n",
       "      <th>taxonID</th>\n",
       "      <th>scientificName</th>\n",
       "      <th>kingdom</th>\n",
       "      <th>phylum</th>\n",
       "      <th>...</th>\n",
       "      <th>Substrate</th>\n",
       "      <th>rightsHolder</th>\n",
       "      <th>Latitude</th>\n",
       "      <th>Longitude</th>\n",
       "      <th>CoorUncert</th>\n",
       "      <th>Habitat</th>\n",
       "      <th>image_path</th>\n",
       "      <th>class_id</th>\n",
       "      <th>MetaSubstrate</th>\n",
       "      <th>poisonous</th>\n",
       "    </tr>\n",
       "  </thead>\n",
       "  <tbody>\n",
       "    <tr>\n",
       "      <th>0</th>\n",
       "      <td>2238546328</td>\n",
       "      <td>2018.0</td>\n",
       "      <td>4.0</td>\n",
       "      <td>16.0</td>\n",
       "      <td>DK</td>\n",
       "      <td>Ulvedal Plantage</td>\n",
       "      <td>30872.0</td>\n",
       "      <td>Ramalina farinacea (L.) Ach.</td>\n",
       "      <td>Fungi</td>\n",
       "      <td>Ascomycota</td>\n",
       "      <td>...</td>\n",
       "      <td>bark of living trees</td>\n",
       "      <td>Ulfva Melchior Hvidegaard</td>\n",
       "      <td>56.299706</td>\n",
       "      <td>9.258110</td>\n",
       "      <td>50.0</td>\n",
       "      <td>Mixed woodland (with coniferous and deciduous ...</td>\n",
       "      <td>2238546328-30620.JPG</td>\n",
       "      <td>1273</td>\n",
       "      <td>wood</td>\n",
       "      <td>0</td>\n",
       "    </tr>\n",
       "    <tr>\n",
       "      <th>1</th>\n",
       "      <td>2558871973</td>\n",
       "      <td>2020.0</td>\n",
       "      <td>1.0</td>\n",
       "      <td>3.0</td>\n",
       "      <td>DK</td>\n",
       "      <td>Slotshegn</td>\n",
       "      <td>15256.0</td>\n",
       "      <td>Hysterium acuminatum Fr.</td>\n",
       "      <td>Fungi</td>\n",
       "      <td>Ascomycota</td>\n",
       "      <td>...</td>\n",
       "      <td>dead wood (including bark)</td>\n",
       "      <td>Ole Martin</td>\n",
       "      <td>55.861899</td>\n",
       "      <td>11.975973</td>\n",
       "      <td>50.0</td>\n",
       "      <td>Deciduous woodland</td>\n",
       "      <td>2558871973-53941.JPG</td>\n",
       "      <td>708</td>\n",
       "      <td>wood</td>\n",
       "      <td>0</td>\n",
       "    </tr>\n",
       "    <tr>\n",
       "      <th>2</th>\n",
       "      <td>2238503501</td>\n",
       "      <td>2017.0</td>\n",
       "      <td>8.0</td>\n",
       "      <td>22.0</td>\n",
       "      <td>DK</td>\n",
       "      <td>Petersborg Strandenge</td>\n",
       "      <td>61200.0</td>\n",
       "      <td>Gliophorus perplexus (A.H.Sm. &amp; Hesler) Kovalenko</td>\n",
       "      <td>Fungi</td>\n",
       "      <td>Basidiomycota</td>\n",
       "      <td>...</td>\n",
       "      <td>soil</td>\n",
       "      <td>Per Taudal Poulsen</td>\n",
       "      <td>56.975158</td>\n",
       "      <td>9.285525</td>\n",
       "      <td>75.0</td>\n",
       "      <td>natural grassland</td>\n",
       "      <td>2238503501-245559.JPG</td>\n",
       "      <td>535</td>\n",
       "      <td>jord</td>\n",
       "      <td>0</td>\n",
       "    </tr>\n",
       "    <tr>\n",
       "      <th>3</th>\n",
       "      <td>2446759075</td>\n",
       "      <td>2019.0</td>\n",
       "      <td>10.0</td>\n",
       "      <td>26.0</td>\n",
       "      <td>DK</td>\n",
       "      <td>Klintebjerg</td>\n",
       "      <td>30530.0</td>\n",
       "      <td>Lecidella scabra (Taylor) Hertel &amp; Leuckert</td>\n",
       "      <td>Fungi</td>\n",
       "      <td>Ascomycota</td>\n",
       "      <td>...</td>\n",
       "      <td>stone</td>\n",
       "      <td>Susanne Rabenborg</td>\n",
       "      <td>55.960242</td>\n",
       "      <td>11.583103</td>\n",
       "      <td>15.0</td>\n",
       "      <td>gravel or clay pit</td>\n",
       "      <td>2446759075-197643.JPG</td>\n",
       "      <td>832</td>\n",
       "      <td>stone</td>\n",
       "      <td>0</td>\n",
       "    </tr>\n",
       "    <tr>\n",
       "      <th>4</th>\n",
       "      <td>2238472345</td>\n",
       "      <td>2016.0</td>\n",
       "      <td>8.0</td>\n",
       "      <td>21.0</td>\n",
       "      <td>DK</td>\n",
       "      <td>Blåbjerg</td>\n",
       "      <td>63728.0</td>\n",
       "      <td>Russula fragilis Fr., 1838</td>\n",
       "      <td>Fungi</td>\n",
       "      <td>Basidiomycota</td>\n",
       "      <td>...</td>\n",
       "      <td>soil</td>\n",
       "      <td>Tom Smidth</td>\n",
       "      <td>55.742985</td>\n",
       "      <td>8.250188</td>\n",
       "      <td>50.0</td>\n",
       "      <td>Mixed woodland (with coniferous and deciduous ...</td>\n",
       "      <td>2238472345-167057.JPG</td>\n",
       "      <td>1338</td>\n",
       "      <td>jord</td>\n",
       "      <td>0</td>\n",
       "    </tr>\n",
       "  </tbody>\n",
       "</table>\n",
       "<p>5 rows × 34 columns</p>\n",
       "</div>"
      ],
      "text/plain": [
       "   observationID    year  month   day countryCode               locality  \\\n",
       "0     2238546328  2018.0    4.0  16.0          DK       Ulvedal Plantage   \n",
       "1     2558871973  2020.0    1.0   3.0          DK              Slotshegn   \n",
       "2     2238503501  2017.0    8.0  22.0          DK  Petersborg Strandenge   \n",
       "3     2446759075  2019.0   10.0  26.0          DK            Klintebjerg   \n",
       "4     2238472345  2016.0    8.0  21.0          DK               Blåbjerg   \n",
       "\n",
       "   taxonID                                     scientificName kingdom  \\\n",
       "0  30872.0                       Ramalina farinacea (L.) Ach.   Fungi   \n",
       "1  15256.0                           Hysterium acuminatum Fr.   Fungi   \n",
       "2  61200.0  Gliophorus perplexus (A.H.Sm. & Hesler) Kovalenko   Fungi   \n",
       "3  30530.0        Lecidella scabra (Taylor) Hertel & Leuckert   Fungi   \n",
       "4  63728.0                         Russula fragilis Fr., 1838   Fungi   \n",
       "\n",
       "          phylum  ...                   Substrate               rightsHolder  \\\n",
       "0     Ascomycota  ...        bark of living trees  Ulfva Melchior Hvidegaard   \n",
       "1     Ascomycota  ...  dead wood (including bark)                 Ole Martin   \n",
       "2  Basidiomycota  ...                        soil         Per Taudal Poulsen   \n",
       "3     Ascomycota  ...                       stone          Susanne Rabenborg   \n",
       "4  Basidiomycota  ...                        soil                 Tom Smidth   \n",
       "\n",
       "    Latitude  Longitude CoorUncert  \\\n",
       "0  56.299706   9.258110       50.0   \n",
       "1  55.861899  11.975973       50.0   \n",
       "2  56.975158   9.285525       75.0   \n",
       "3  55.960242  11.583103       15.0   \n",
       "4  55.742985   8.250188       50.0   \n",
       "\n",
       "                                             Habitat             image_path  \\\n",
       "0  Mixed woodland (with coniferous and deciduous ...   2238546328-30620.JPG   \n",
       "1                                 Deciduous woodland   2558871973-53941.JPG   \n",
       "2                                  natural grassland  2238503501-245559.JPG   \n",
       "3                                 gravel or clay pit  2446759075-197643.JPG   \n",
       "4  Mixed woodland (with coniferous and deciduous ...  2238472345-167057.JPG   \n",
       "\n",
       "  class_id MetaSubstrate poisonous  \n",
       "0     1273          wood         0  \n",
       "1      708          wood         0  \n",
       "2      535          jord         0  \n",
       "3      832         stone         0  \n",
       "4     1338          jord         0  \n",
       "\n",
       "[5 rows x 34 columns]"
      ]
     },
     "execution_count": 40,
     "metadata": {},
     "output_type": "execute_result"
    }
   ],
   "source": [
    "train_df.head()"
   ]
  },
  {
   "cell_type": "code",
   "execution_count": 41,
   "id": "7f53f80f",
   "metadata": {},
   "outputs": [
    {
     "data": {
      "text/plain": [
       "True"
      ]
     },
     "execution_count": 41,
     "metadata": {},
     "output_type": "execute_result"
    }
   ],
   "source": [
    "train_df[\"image_path\"].is_unique "
   ]
  },
  {
   "cell_type": "code",
   "execution_count": 42,
   "id": "e0ceeadf",
   "metadata": {},
   "outputs": [
    {
     "data": {
      "text/plain": [
       "118768"
      ]
     },
     "execution_count": 42,
     "metadata": {},
     "output_type": "execute_result"
    }
   ],
   "source": [
    "mask = train_df[\"observationID\"].duplicated()\n",
    "sum(mask)"
   ]
  },
  {
   "cell_type": "code",
   "execution_count": 43,
   "id": "7cb93c0d",
   "metadata": {},
   "outputs": [],
   "source": [
    "# there are duplicate observationIDs because each observation can have more than one associated image"
   ]
  },
  {
   "cell_type": "code",
   "execution_count": 44,
   "id": "0c31afbc",
   "metadata": {},
   "outputs": [],
   "source": [
    "# train_df = train_df.drop_duplicates(\"observationID\", keep=\"first\")"
   ]
  },
  {
   "cell_type": "code",
   "execution_count": 45,
   "id": "bef8fb91",
   "metadata": {},
   "outputs": [
    {
     "data": {
      "text/plain": [
       "True"
      ]
     },
     "execution_count": 45,
     "metadata": {},
     "output_type": "execute_result"
    }
   ],
   "source": [
    "train_df[\"image_path\"].is_unique "
   ]
  },
  {
   "cell_type": "code",
   "execution_count": 46,
   "id": "5abad128",
   "metadata": {
    "scrolled": true
   },
   "outputs": [
    {
     "data": {
      "text/plain": [
       "1604"
      ]
     },
     "execution_count": 46,
     "metadata": {},
     "output_type": "execute_result"
    }
   ],
   "source": [
    "train_df[\"class_id\"].nunique()"
   ]
  },
  {
   "cell_type": "code",
   "execution_count": 47,
   "id": "509ef5d2",
   "metadata": {},
   "outputs": [],
   "source": [
    "def load_clean_df(df_path: Path):\n",
    "    df = pd.read_csv(df_path)\n",
    "    return df"
   ]
  },
  {
   "cell_type": "code",
   "execution_count": 48,
   "id": "7f711f93",
   "metadata": {},
   "outputs": [],
   "source": [
    "def load_clean_get_nunique(df_path: Path):\n",
    "    df = pd.read_csv(df_path)\n",
    "    return df[\"class_id\"].nunique()"
   ]
  },
  {
   "cell_type": "code",
   "execution_count": 49,
   "id": "19638ab6",
   "metadata": {},
   "outputs": [
    {
     "data": {
      "text/plain": [
       "1085"
      ]
     },
     "execution_count": 49,
     "metadata": {},
     "output_type": "execute_result"
    }
   ],
   "source": [
    "val_df_path = labels_dir / \"FungiCLEF2023_val_metadata_PRODUCTION.csv\"\n",
    "load_clean_get_nunique(val_df_path)"
   ]
  },
  {
   "cell_type": "code",
   "execution_count": 50,
   "id": "435ac74f",
   "metadata": {},
   "outputs": [],
   "source": [
    "val_df = load_clean_df(val_df_path)"
   ]
  },
  {
   "cell_type": "code",
   "execution_count": 51,
   "id": "bd5e5b03",
   "metadata": {},
   "outputs": [
    {
     "data": {
      "text/plain": [
       "True"
      ]
     },
     "execution_count": 51,
     "metadata": {},
     "output_type": "execute_result"
    }
   ],
   "source": [
    "val_df[\"image_path\"].is_unique"
   ]
  },
  {
   "cell_type": "code",
   "execution_count": 52,
   "id": "f5aa9673",
   "metadata": {},
   "outputs": [
    {
     "data": {
      "text/plain": [
       "-1       21954\n",
       " 937       458\n",
       " 1486      457\n",
       " 492       355\n",
       " 1437      307\n",
       "         ...  \n",
       " 549         1\n",
       " 1443        1\n",
       " 1475        1\n",
       " 204         1\n",
       " 314         1\n",
       "Name: class_id, Length: 1085, dtype: int64"
      ]
     },
     "execution_count": 52,
     "metadata": {},
     "output_type": "execute_result"
    }
   ],
   "source": [
    "val_df[\"class_id\"].value_counts()"
   ]
  },
  {
   "cell_type": "code",
   "execution_count": 62,
   "id": "12a34ef1",
   "metadata": {},
   "outputs": [
    {
     "data": {
      "text/plain": [
       "937     458\n",
       "1486    457\n",
       "492     355\n",
       "1437    307\n",
       "88      293\n",
       "99      289\n",
       "1182    270\n",
       "515     265\n",
       "1491    264\n",
       "105     250\n",
       "1482    247\n",
       "133     240\n",
       "973     239\n",
       "1483    233\n",
       "1184    227\n",
       "1460    225\n",
       "931     217\n",
       "387     217\n",
       "170     203\n",
       "744     202\n",
       "Name: class_id, dtype: int64"
      ]
     },
     "execution_count": 62,
     "metadata": {},
     "output_type": "execute_result"
    }
   ],
   "source": [
    "val_df[\"class_id\"].value_counts()[1:21]"
   ]
  },
  {
   "cell_type": "code",
   "execution_count": 53,
   "id": "21bc03d4",
   "metadata": {},
   "outputs": [
    {
     "data": {
      "text/plain": [
       "1486    1913\n",
       "492     1743\n",
       "687     1636\n",
       "1186    1365\n",
       "489     1317\n",
       "        ... \n",
       "1407      31\n",
       "833       31\n",
       "1344      31\n",
       "945       31\n",
       "1091      31\n",
       "Name: class_id, Length: 1604, dtype: int64"
      ]
     },
     "execution_count": 53,
     "metadata": {},
     "output_type": "execute_result"
    }
   ],
   "source": [
    "train_df[\"class_id\"].value_counts()"
   ]
  },
  {
   "cell_type": "code",
   "execution_count": 63,
   "id": "806a83c5",
   "metadata": {},
   "outputs": [
    {
     "data": {
      "text/plain": [
       "1486    1913\n",
       "492     1743\n",
       "687     1636\n",
       "1186    1365\n",
       "489     1317\n",
       "99      1301\n",
       "88      1270\n",
       "249     1256\n",
       "1437    1225\n",
       "973     1221\n",
       "1184    1167\n",
       "648     1117\n",
       "225     1115\n",
       "515     1107\n",
       "387     1065\n",
       "1182    1034\n",
       "1491    1033\n",
       "553      989\n",
       "368      988\n",
       "931      965\n",
       "Name: class_id, dtype: int64"
      ]
     },
     "execution_count": 63,
     "metadata": {},
     "output_type": "execute_result"
    }
   ],
   "source": [
    "train_df[\"class_id\"].value_counts()[:20]"
   ]
  },
  {
   "cell_type": "code",
   "execution_count": 68,
   "id": "8b6bb8ff",
   "metadata": {},
   "outputs": [
    {
     "data": {
      "text/plain": [
       "12"
      ]
     },
     "execution_count": 68,
     "metadata": {},
     "output_type": "execute_result"
    }
   ],
   "source": [
    "n_classes = 20\n",
    "len(set(train_df[\"class_id\"].value_counts()[:n_classes].index)\n",
    ".intersection(val_df[\"class_id\"].value_counts()[1:n_classes+1].index))"
   ]
  },
  {
   "cell_type": "code",
   "execution_count": 67,
   "id": "831b7c14",
   "metadata": {},
   "outputs": [
    {
     "data": {
      "text/plain": [
       "16"
      ]
     },
     "execution_count": 67,
     "metadata": {},
     "output_type": "execute_result"
    }
   ],
   "source": [
    "len(set(train_df[\"class_id\"].value_counts()[:n_classes].index)\n",
    "    .symmetric_difference(val_df[\"class_id\"].value_counts()[1:n_classes+1].index))"
   ]
  },
  {
   "cell_type": "markdown",
   "id": "c757ba25",
   "metadata": {},
   "source": [
    "# are the training and validation classes the same?\n",
    "- no.\n",
    "- there is an \"unknown\" class in the validation set (-1) that is not in the training set\n",
    "- there are many classes in the trianing set not in the validation set"
   ]
  },
  {
   "cell_type": "code",
   "execution_count": 54,
   "id": "468bc950",
   "metadata": {},
   "outputs": [],
   "source": [
    "train_classes = set(train_df[\"class_id\"].unique())\n",
    "val_classes = set(val_df[\"class_id\"].unique())"
   ]
  },
  {
   "cell_type": "code",
   "execution_count": 55,
   "id": "6fff0a50",
   "metadata": {},
   "outputs": [
    {
     "data": {
      "text/plain": [
       "520"
      ]
     },
     "execution_count": 55,
     "metadata": {},
     "output_type": "execute_result"
    }
   ],
   "source": [
    "len(train_classes - val_classes)"
   ]
  },
  {
   "cell_type": "code",
   "execution_count": 56,
   "id": "ba5e30bf",
   "metadata": {},
   "outputs": [
    {
     "data": {
      "text/plain": [
       "{-1}"
      ]
     },
     "execution_count": 56,
     "metadata": {},
     "output_type": "execute_result"
    }
   ],
   "source": [
    "val_classes - train_classes"
   ]
  },
  {
   "cell_type": "code",
   "execution_count": null,
   "id": "3bee5e70",
   "metadata": {},
   "outputs": [],
   "source": []
  }
 ],
 "metadata": {
  "kernelspec": {
   "display_name": "Python 3",
   "language": "python",
   "name": "python3"
  },
  "language_info": {
   "codemirror_mode": {
    "name": "ipython",
    "version": 3
   },
   "file_extension": ".py",
   "mimetype": "text/x-python",
   "name": "python",
   "nbconvert_exporter": "python",
   "pygments_lexer": "ipython3",
   "version": "3.8.5"
  }
 },
 "nbformat": 4,
 "nbformat_minor": 5
}
